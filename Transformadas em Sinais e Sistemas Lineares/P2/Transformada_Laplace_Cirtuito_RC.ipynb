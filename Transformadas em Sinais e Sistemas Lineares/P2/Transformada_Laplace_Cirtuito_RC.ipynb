{
  "nbformat": 4,
  "nbformat_minor": 0,
  "metadata": {
    "colab": {
      "provenance": []
    },
    "kernelspec": {
      "name": "python3",
      "display_name": "Python 3"
    },
    "language_info": {
      "name": "python"
    }
  },
  "cells": [
    {
      "cell_type": "markdown",
      "source": [
        "# Aplicação da Transformada de Laplace (TL)\n",
        "## Análise de Circuito RC\n",
        "O modelo matemático é dado por\n",
        "$$v_c(t)=\\dfrac{1}{C}\\int_0^ti(\\tau)d\\tau$$\n",
        "e\n",
        "$$\\left(D+\\dfrac{1}{RC}\\right)v_c(t)=\\dfrac{1}{RC}v(t)$$\n",
        "onde\n",
        "* $v(t)$ é a tensão de entrada,\n",
        "* $v_c(t)$ é a tensão no capacitor,\n",
        "* $i(t)$ é a corrente no circuito.\n",
        "* $R=0,8\\,\\Omega$,\n",
        "* $C=0,1\\,F$.\n",
        "\n",
        "Considere condições iniciais nulas.\n",
        "## Análise\n",
        "1. Determine a resposta em frequência $H_v(s)$ para a relação $V_c(s)/V(s)$.\n",
        "2. Calcular os espectros de amplitude e fase de $H_v(s)$.\n",
        "3. Obtenha a resposta ao impulso unitário $h_v(t)$, considerando $v_c(t)$ como saída.\n",
        "4. Calcule a resposta $v_c(t)$ para entrada degrau $u(t)$.\n",
        "5. Determine a resposta em frequência $H_I(s)$ para a relação $I(s)/V(s)$.\n",
        "6. Calcular os espectros de amplitude e fase de $H_I(s)$.\n",
        "7. Obtenha a resposta ao impulso unitário $h_i(t)$, considerando $i(t)$ como saída."
      ],
      "metadata": {
        "id": "IRORKc6x63HL"
      }
    },
    {
      "cell_type": "code",
      "execution_count": 2,
      "metadata": {
        "id": "Zqg5HAbcb4Sz"
      },
      "outputs": [],
      "source": [
        "# carregamos as librarias e definimos os símbolo que utilizaremos\n",
        "import numpy as np\n",
        "import matplotlib.pyplot as plt\n",
        "import sympy as sp\n",
        "s, t = sp.symbols('s t')\n",
        "# Definimos os parâmetros do exercício\n",
        "R, C = sp.symbols('R C', positive=True)\n",
        "#R = 0.8\n",
        "#C = 0.1"
      ]
    },
    {
      "cell_type": "markdown",
      "source": [
        "## Determine a a resposta em frequência  $H_v(s)$"
      ],
      "metadata": {
        "id": "IWD0tec89BWZ"
      }
    },
    {
      "cell_type": "markdown",
      "source": [
        "A resposta em frequêcia $H_v(s)$ é dada por\n",
        "$$H_v(s)=\\dfrac{1}{RCs+1}$$\n",
        "que é $V_s(s)$ quando a entrada é um impulso unitário $\\delta(t)$, isto é, $V(s)=1$."
      ],
      "metadata": {
        "id": "zki8c81RAr3I"
      }
    },
    {
      "cell_type": "code",
      "source": [
        "Hv = 1/(R*C*s+1)\n",
        "Hv"
      ],
      "metadata": {
        "colab": {
          "base_uri": "https://localhost:8080/",
          "height": 52
        },
        "id": "6WZOY5Yg-AgG",
        "outputId": "17a88cd5-d794-4fc7-d7e4-ff0280083534"
      },
      "execution_count": 3,
      "outputs": [
        {
          "output_type": "execute_result",
          "data": {
            "text/plain": [
              "1/(C*R*s + 1)"
            ],
            "text/latex": "$\\displaystyle \\frac{1}{C R s + 1}$"
          },
          "metadata": {},
          "execution_count": 3
        }
      ]
    },
    {
      "cell_type": "markdown",
      "source": [
        "## Calcular os espectros de amplitude e fase de  $H_v(s)$"
      ],
      "metadata": {
        "id": "8xaum8r_dB4d"
      }
    },
    {
      "cell_type": "code",
      "source": [
        "# Preparamos a função Hv(jw)\n",
        "#Hvw = np.vectorize(lambda w: Hv.subs(R, 0.8).subs(C, 0.1).subs(s,1j*w).evalf())\n",
        "Hvw = lambda w: 1/(0.8*0.1*1j*w+1)"
      ],
      "metadata": {
        "id": "1pgUmN0qdHpA"
      },
      "execution_count": 22,
      "outputs": []
    },
    {
      "cell_type": "code",
      "source": [
        "ws = np.linspace(0,100,100)\n",
        "plt.plot(ws,np.abs(Hvw(ws)))\n",
        "plt.grid()\n",
        "plt.xlabel('omega')\n",
        "plt.ylabel('|Hv(jw)|')\n",
        "plt.title('Espectro de Amplitude')\n",
        "plt.show()"
      ],
      "metadata": {
        "colab": {
          "base_uri": "https://localhost:8080/",
          "height": 295
        },
        "id": "uSGtruNJdk7n",
        "outputId": "275cf5a5-cf92-4c5c-b82d-7b8c1deb4a98"
      },
      "execution_count": 23,
      "outputs": [
        {
          "output_type": "display_data",
          "data": {
            "text/plain": [
              "<Figure size 432x288 with 1 Axes>"
            ],
            "image/png": "[encoded data removed]"
          },
          "metadata": {
            "needs_background": "light"
          }
        }
      ]
    },
    {
      "cell_type": "code",
      "source": [
        "plt.plot(ws,np.angle(Hvw(ws)))\n",
        "plt.grid()\n",
        "plt.xlabel('omega')\n",
        "plt.ylabel('<Hv(jw)')\n",
        "plt.title('Espectro de Fase')\n",
        "plt.show()"
      ],
      "metadata": {
        "colab": {
          "base_uri": "https://localhost:8080/",
          "height": 295
        },
        "id": "7ZefFFmmdwr2",
        "outputId": "16dbd05e-b477-4607-9236-9aee1ac23fb5"
      },
      "execution_count": 24,
      "outputs": [
        {
          "output_type": "display_data",
          "data": {
            "text/plain": [
              "<Figure size 432x288 with 1 Axes>"
            ],
            "image/png": "[encoded data removed]"
          },
          "metadata": {
            "needs_background": "light"
          }
        }
      ]
    },
    {
      "cell_type": "markdown",
      "source": [
        "## Obtenha a resposta ao impulso unitário  $h_v(t)$ , considerando  $v_c(t)$  como saída"
      ],
      "metadata": {
        "id": "O5F8JzYTfqu1"
      }
    },
    {
      "cell_type": "code",
      "source": [
        "hv = sp.inverse_laplace_transform(Hv,s,t)\n",
        "hv"
      ],
      "metadata": {
        "colab": {
          "base_uri": "https://localhost:8080/",
          "height": 56
        },
        "id": "F2jScmvld3Jx",
        "outputId": "92d117e0-b80b-4ae3-8571-d3d62661223f"
      },
      "execution_count": 25,
      "outputs": [
        {
          "output_type": "execute_result",
          "data": {
            "text/plain": [
              "exp(-t/(C*R))*Heaviside(t)/(C*R)"
            ],
            "text/latex": "$\\displaystyle \\frac{e^{- \\frac{t}{C R}} \\theta\\left(t\\right)}{C R}$"
          },
          "metadata": {},
          "execution_count": 25
        }
      ]
    },
    {
      "cell_type": "code",
      "source": [
        "hvt = np.vectorize(lambda tn: hv.subs(R, 0.8).subs(C, 0.1).subs(t,tn).evalf())"
      ],
      "metadata": {
        "id": "NDQb_nMMeFEi"
      },
      "execution_count": 29,
      "outputs": []
    },
    {
      "cell_type": "code",
      "source": [
        "ts = np.linspace(0.001,1,100)\n",
        "plt.plot(ts, hvt(ts))\n",
        "plt.grid()\n",
        "plt.xlabel('tempo')\n",
        "plt.ylabel('Resposta')\n",
        "plt.title('Resposta ao impulso')\n",
        "plt.show()"
      ],
      "metadata": {
        "colab": {
          "base_uri": "https://localhost:8080/",
          "height": 295
        },
        "id": "iiDzk37ve9BI",
        "outputId": "bc5cb361-e7ed-4d7f-e66c-eb48ddcb196e"
      },
      "execution_count": 34,
      "outputs": [
        {
          "output_type": "display_data",
          "data": {
            "text/plain": [
              "<Figure size 432x288 with 1 Axes>"
            ],
            "image/png": "[encoded data removed]"
          },
          "metadata": {
            "needs_background": "light"
          }
        }
      ]
    },
    {
      "cell_type": "markdown",
      "source": [
        "## Calcule a resposta  $v_c(t)$ para entrada degrau $u(t)$"
      ],
      "metadata": {
        "id": "zEVrQrjehHFd"
      }
    },
    {
      "cell_type": "code",
      "source": [
        "resp_degrau = sp.inverse_laplace_transform(Hv/s,s,t)\n",
        "resp_degrau"
      ],
      "metadata": {
        "colab": {
          "base_uri": "https://localhost:8080/",
          "height": 40
        },
        "id": "CAcQ6taHhKtW",
        "outputId": "91a7b6ca-e3f3-40f1-8bbb-4ca360064743"
      },
      "execution_count": 35,
      "outputs": [
        {
          "output_type": "execute_result",
          "data": {
            "text/plain": [
              "Heaviside(t) - exp(-t/(C*R))*Heaviside(t)"
            ],
            "text/latex": "$\\displaystyle \\theta\\left(t\\right) - e^{- \\frac{t}{C R}} \\theta\\left(t\\right)$"
          },
          "metadata": {},
          "execution_count": 35
        }
      ]
    },
    {
      "cell_type": "code",
      "source": [
        "# preparamos a função para o gráfico\n",
        "resp_degrau_t = np.vectorize(lambda tn: resp_degrau.subs(R, 0.8).subs(C, 0.1).subs(t,tn).evalf())"
      ],
      "metadata": {
        "id": "bxwT9sVlhRhw"
      },
      "execution_count": 36,
      "outputs": []
    },
    {
      "cell_type": "code",
      "source": [
        "ts = np.linspace(0,1,100)\n",
        "plt.plot(ts,resp_degrau_t(ts))\n",
        "plt.step([0,1],[1,1])\n",
        "plt.grid()\n",
        "plt.xlabel('tempo')\n",
        "plt.ylabel('Resposta')\n",
        "plt.title('Resposta ao degrau')\n",
        "plt.show()"
      ],
      "metadata": {
        "colab": {
          "base_uri": "https://localhost:8080/",
          "height": 295
        },
        "id": "1xoMW6Bbhhsb",
        "outputId": "0d235ded-4819-4d25-bbb1-1b1575d7bae2"
      },
      "execution_count": 37,
      "outputs": [
        {
          "output_type": "display_data",
          "data": {
            "text/plain": [
              "<Figure size 432x288 with 1 Axes>"
            ],
            "image/png": "[encoded data removed]"
          },
          "metadata": {
            "needs_background": "light"
          }
        }
      ]
    },
    {
      "cell_type": "markdown",
      "source": [
        "## Determine a resposta em frequência $H_I(s)$ para a relação  $I(s)/V(s)$"
      ],
      "metadata": {
        "id": "3x0aHfrIh7p_"
      }
    },
    {
      "cell_type": "code",
      "source": [
        "Hi = C*s/(R*C*s+1)\n",
        "Hi"
      ],
      "metadata": {
        "colab": {
          "base_uri": "https://localhost:8080/",
          "height": 53
        },
        "id": "5k4-jyPihkVU",
        "outputId": "6d03db93-20c8-4b78-caf9-7f4b66e44e35"
      },
      "execution_count": 51,
      "outputs": [
        {
          "output_type": "execute_result",
          "data": {
            "text/plain": [
              "C*s/(C*R*s + 1)"
            ],
            "text/latex": "$\\displaystyle \\frac{C s}{C R s + 1}$"
          },
          "metadata": {},
          "execution_count": 51
        }
      ]
    },
    {
      "cell_type": "markdown",
      "source": [
        "## Calcular os espectros de amplitude e fase de  $H_I(s)$"
      ],
      "metadata": {
        "id": "a7Lqgr3IiP5F"
      }
    },
    {
      "cell_type": "code",
      "source": [
        "# Preparamos a função HI(jw)\n",
        "Hiw = lambda w:(1/0.8)-(1/(0.8*(0.8*0.1*1j*w+1)))"
      ],
      "metadata": {
        "id": "5ehpGN3piKFk"
      },
      "execution_count": 46,
      "outputs": []
    },
    {
      "cell_type": "code",
      "source": [
        "ws = np.linspace(0,100,100)\n",
        "plt.plot(ws,np.abs(Hiw(ws)))\n",
        "plt.grid()\n",
        "plt.xlabel('omega')\n",
        "plt.ylabel('|Hi(jw)|')\n",
        "plt.title('Espectro de Amplitude |Hi(jw)|')\n",
        "plt.show()"
      ],
      "metadata": {
        "colab": {
          "base_uri": "https://localhost:8080/",
          "height": 295
        },
        "id": "tJNGRytkiiv_",
        "outputId": "c577ea9f-c845-41aa-d8fa-78ee5b2596cd"
      },
      "execution_count": 48,
      "outputs": [
        {
          "output_type": "display_data",
          "data": {
            "text/plain": [
              "<Figure size 432x288 with 1 Axes>"
            ],
            "image/png": "[encoded data removed]"
          },
          "metadata": {
            "needs_background": "light"
          }
        }
      ]
    },
    {
      "cell_type": "code",
      "source": [
        "plt.plot(ws,np.angle(Hiw(ws)))\n",
        "plt.grid()\n",
        "plt.xlabel('omega')\n",
        "plt.ylabel('<Hv(jw)')\n",
        "plt.title('Espectro de Fase <Hv(jw)')\n",
        "plt.show()"
      ],
      "metadata": {
        "colab": {
          "base_uri": "https://localhost:8080/",
          "height": 295
        },
        "id": "7LttpXORiwXZ",
        "outputId": "452116c7-4587-4d75-d22e-f876bca3f1bf"
      },
      "execution_count": 49,
      "outputs": [
        {
          "output_type": "display_data",
          "data": {
            "text/plain": [
              "<Figure size 432x288 with 1 Axes>"
            ],
            "image/png": "[encoded data removed]"
          },
          "metadata": {
            "needs_background": "light"
          }
        }
      ]
    },
    {
      "cell_type": "markdown",
      "source": [
        "## Obtenha a resposta ao impulso unitário $h_i(t)$ , considerando  $i(t)$ como saída."
      ],
      "metadata": {
        "id": "xrMInyYTkMJ4"
      }
    },
    {
      "cell_type": "code",
      "source": [
        "hi = sp.inverse_laplace_transform(Hi,s,t)\n",
        "hi"
      ],
      "metadata": {
        "colab": {
          "base_uri": "https://localhost:8080/",
          "height": 58
        },
        "id": "L_VPHMFHjZm6",
        "outputId": "02de1052-7885-4b15-c708-4d93f1ff6c11"
      },
      "execution_count": 52,
      "outputs": [
        {
          "output_type": "execute_result",
          "data": {
            "text/plain": [
              "C*InverseLaplaceTransform(s/(C*R*s + 1), s, t, _None)"
            ],
            "text/latex": "$\\displaystyle C \\mathcal{L}^{-1}_{s}\\left[\\frac{s}{C R s + 1}\\right]\\left(t\\right)$"
          },
          "metadata": {},
          "execution_count": 52
        }
      ]
    },
    {
      "cell_type": "code",
      "source": [
        "hi = sp.inverse_laplace_transform((1/R)-(1/(R*(R*C*s+1))),s,t)\n",
        "hi"
      ],
      "metadata": {
        "colab": {
          "base_uri": "https://localhost:8080/",
          "height": 56
        },
        "id": "rMCjJvfOkUqj",
        "outputId": "f69149ff-2346-4708-9086-311ebca51a76"
      },
      "execution_count": 53,
      "outputs": [
        {
          "output_type": "execute_result",
          "data": {
            "text/plain": [
              "DiracDelta(t)/R - exp(-t/(C*R))*Heaviside(t)/(C*R**2)"
            ],
            "text/latex": "$\\displaystyle \\frac{\\delta\\left(t\\right)}{R} - \\frac{e^{- \\frac{t}{C R}} \\theta\\left(t\\right)}{C R^{2}}$"
          },
          "metadata": {},
          "execution_count": 53
        }
      ]
    },
    {
      "cell_type": "code",
      "source": [
        "hit = np.vectorize(lambda tn: hi.subs(R,0.8).subs(C,0.1).subs(t,tn).evalf())"
      ],
      "metadata": {
        "id": "tNnTKiXDkt7b"
      },
      "execution_count": 54,
      "outputs": []
    },
    {
      "cell_type": "code",
      "source": [
        "ts = np.linspace(0.001,1,100)\n",
        "plt.plot(ts, hvt(ts))\n",
        "plt.grid()\n",
        "plt.xlabel('tempo')\n",
        "plt.ylabel('Resposta')\n",
        "plt.title('Resposta ao impulso hi(t)')\n",
        "plt.show()"
      ],
      "metadata": {
        "colab": {
          "base_uri": "https://localhost:8080/",
          "height": 295
        },
        "id": "uja-fpoHk78J",
        "outputId": "e05a3a74-18d7-47d4-88bf-85e30ac120be"
      },
      "execution_count": 58,
      "outputs": [
        {
          "output_type": "display_data",
          "data": {
            "text/plain": [
              "<Figure size 432x288 with 1 Axes>"
            ],
            "image/png": "[encoded data removed]"
          },
          "metadata": {
            "needs_background": "light"
          }
        }
      ]
    },
    {
      "cell_type": "code",
      "source": [],
      "metadata": {
        "id": "bPs-_5Tnk9eP"
      },
      "execution_count": null,
      "outputs": []
    }
  ]
}